{
 "cells": [
  {
   "cell_type": "code",
   "execution_count": 21,
   "metadata": {},
   "outputs": [],
   "source": [
    "from selenium import webdriver as wb\n",
    "import openpyxl\n",
    "import xlutils as xl"
   ]
  },
  {
   "cell_type": "markdown",
   "metadata": {},
   "source": [
    "# 1. Reading data from excel sheets"
   ]
  },
  {
   "cell_type": "code",
   "execution_count": 2,
   "metadata": {},
   "outputs": [],
   "source": [
    "workbook = openpyxl.load_workbook(\"Employee.xlsx\")"
   ]
  },
  {
   "cell_type": "code",
   "execution_count": 3,
   "metadata": {},
   "outputs": [],
   "source": [
    "sheet= workbook.active  # This will focus on the active sheet in the Excel \n",
    "\n",
    "# to access any other excel sheet use=  workbook.get_sheet_by_name(\"Sheet1\")"
   ]
  },
  {
   "cell_type": "code",
   "execution_count": 4,
   "metadata": {},
   "outputs": [
    {
     "name": "stdout",
     "output_type": "stream",
     "text": [
      "13 4\n"
     ]
    }
   ],
   "source": [
    "rows= sheet.max_row\n",
    "cols= sheet.max_column\n",
    "print(rows, cols)"
   ]
  },
  {
   "cell_type": "code",
   "execution_count": 5,
   "metadata": {},
   "outputs": [
    {
     "name": "stdout",
     "output_type": "stream",
     "text": [
      "EMPID FIRSTNAME LASTNAME SALARY \n",
      "111 RAM SINGH 50000 \n",
      "112 MAHESH GUPTA 60000 \n",
      "113 AKKI NEGI 24000 \n",
      "114 NAVIN PUROHIT 34000 \n",
      "115 RAHUL SINGH 40000 \n",
      "116 PANKAJ NEGI 38000 \n",
      "117 DIVYA RAWAT 20000 \n",
      "118 VIVEK BHATT 55000 \n",
      "119 VARUN TANWAR 10000 \n",
      "120 GAURAV PANDEY 120000 \n",
      "121 AMAN GUPTA 33000 \n"
     ]
    }
   ],
   "source": [
    "for r in range(1, rows):\n",
    "    for c in range(1, cols+1):\n",
    "        print(sheet.cell(row=r, column=c).value,end=' ')\n",
    "    print()"
   ]
  },
  {
   "cell_type": "markdown",
   "metadata": {},
   "source": [
    "# 2. Writing data into Excel files"
   ]
  },
  {
   "cell_type": "code",
   "execution_count": 33,
   "metadata": {},
   "outputs": [],
   "source": [
    "workbook = openpyxl.load_workbook(\"Employee.xlsx\")"
   ]
  },
  {
   "cell_type": "code",
   "execution_count": 34,
   "metadata": {},
   "outputs": [],
   "source": [
    "sheet= workbook[\"Sheet2\"]"
   ]
  },
  {
   "cell_type": "code",
   "execution_count": 35,
   "metadata": {},
   "outputs": [],
   "source": [
    "for r in range(1,6):\n",
    "    for c in range(1,4):\n",
    "        sheet.cell(row=r, column=c).value= 'welcome'"
   ]
  },
  {
   "cell_type": "code",
   "execution_count": 37,
   "metadata": {},
   "outputs": [],
   "source": [
    "workbook.save(\"Employee.xlsx\")"
   ]
  },
  {
   "cell_type": "markdown",
   "metadata": {},
   "source": [
    "# 3. Data Driven Testing"
   ]
  },
  {
   "cell_type": "code",
   "execution_count": 15,
   "metadata": {},
   "outputs": [],
   "source": [
    "# driver= wb.Chrome()\n",
    "# driver.get('https://opensource-demo.orangehrmlive.com/')\n",
    "# driver.maximize_window()"
   ]
  },
  {
   "cell_type": "code",
   "execution_count": 23,
   "metadata": {},
   "outputs": [],
   "source": [
    "def getRowCount(file, sheetname):\n",
    "    workbook = openpyxl.load_workbook(file)\n",
    "    sheet= workbook[sheetname]\n",
    "    return (sheet.max_row)"
   ]
  },
  {
   "cell_type": "code",
   "execution_count": 24,
   "metadata": {},
   "outputs": [],
   "source": [
    "def getColCount(file, sheetname):\n",
    "    workbook = openpyxl.load_workbook(file)\n",
    "    sheet= workbook[sheetname]\n",
    "    return (sheet.max_column)"
   ]
  },
  {
   "cell_type": "code",
   "execution_count": 35,
   "metadata": {},
   "outputs": [],
   "source": [
    "def readData(file, sheetname, rownum, colnum):\n",
    "    workbook = openpyxl.load_workbook(file)\n",
    "    sheet= workbook[sheetname]\n",
    "    return (sheet.cell(row=rownum, column=colnum).value)\n",
    "    "
   ]
  },
  {
   "cell_type": "code",
   "execution_count": 32,
   "metadata": {},
   "outputs": [],
   "source": [
    "def writeData(file, sheetname, rownum, colnum,data):\n",
    "    workbook = openpyxl.load_workbook(file)\n",
    "    sheet= workbook[sheetname]\n",
    "    sheet.cell(row=rownum, column=colnum).value=data\n",
    "    workbook.save(file)"
   ]
  },
  {
   "cell_type": "code",
   "execution_count": 33,
   "metadata": {},
   "outputs": [
    {
     "name": "stdout",
     "output_type": "stream",
     "text": [
      "5\n"
     ]
    }
   ],
   "source": [
    "rows=getRowCount(\"User_login.xlsx\",\"Sheet1\")\n",
    "print(rows)"
   ]
  },
  {
   "cell_type": "code",
   "execution_count": 38,
   "metadata": {},
   "outputs": [
    {
     "name": "stdout",
     "output_type": "stream",
     "text": [
      "Test is passed\n",
      "test is failed\n",
      "test is failed\n",
      "test is failed\n"
     ]
    }
   ],
   "source": [
    "for r in range(2, rows+1):\n",
    "    driver= wb.Chrome()\n",
    "    driver.get('https://opensource-demo.orangehrmlive.com/')\n",
    "    driver.maximize_window()\n",
    "    \n",
    "    username= readData('User_login.xlsx','Sheet1', r, 1)\n",
    "    password= readData('User_login.xlsx','Sheet1', r, 2)\n",
    "    \n",
    "    user= driver.find_element_by_id('txtUsername')\n",
    "    pwd= driver.find_element_by_id('txtPassword')\n",
    "    login= driver.find_element_by_id('btnLogin')\n",
    "    \n",
    "    user.send_keys(username)\n",
    "    pwd.send_keys(password)\n",
    "    login.click()\n",
    "    \n",
    "    try:\n",
    "        welcome= driver.find_element_by_xpath(\"//a[@id='welcome']\")\n",
    "        print(\"Test is passed\")\n",
    "        writeData('User_login.xlsx', \"Sheet1\", r, 4, 'Test passed')\n",
    "        \n",
    "    except:\n",
    "        print('test is failed')\n",
    "        writeData('User_login.xlsx', \"Sheet1\", r, 4, 'Test failed')\n",
    "    driver.close()\n",
    "        "
   ]
  },
  {
   "cell_type": "code",
   "execution_count": null,
   "metadata": {},
   "outputs": [],
   "source": []
  }
 ],
 "metadata": {
  "kernelspec": {
   "display_name": "Python 3",
   "language": "python",
   "name": "python3"
  },
  "language_info": {
   "codemirror_mode": {
    "name": "ipython",
    "version": 3
   },
   "file_extension": ".py",
   "mimetype": "text/x-python",
   "name": "python",
   "nbconvert_exporter": "python",
   "pygments_lexer": "ipython3",
   "version": "3.7.6"
  }
 },
 "nbformat": 4,
 "nbformat_minor": 4
}
