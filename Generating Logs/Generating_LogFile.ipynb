{
 "cells": [
  {
   "cell_type": "markdown",
   "metadata": {},
   "source": [
    "### Capturing every event and noting it on a file is termed as logging. By seeing this log file we can check whether everthying worked fine or not.\n",
    "\n",
    "### Logging is a very useful tool in a programmer's toolbox. It can help you develop a better understanding of the flow of a program and discover scenarios that you might not even have thought of while developing.\n",
    "\n",
    "### Log Levels:\n",
    "    1. DEBUG\n",
    "    2. INFO\n",
    "    3. WARNING\n",
    "    4. ERROR\n",
    "    5. CRITICAL"
   ]
  },
  {
   "cell_type": "code",
   "execution_count": 2,
   "metadata": {},
   "outputs": [],
   "source": [
    "import logging"
   ]
  },
  {
   "cell_type": "code",
   "execution_count": 3,
   "metadata": {},
   "outputs": [],
   "source": [
    "# level tells us about the lowest level from where log need to be printed.\n",
    "# In the format we are first printing the time followed by level then the message.\n",
    "# In the datefmt we are defining the date format\n",
    "logging.basicConfig(filename='test.log',\n",
    "                    format = '%(asctime)s: %(levelname)s: %(message)s' ,\n",
    "                    datefmt= '%m/%d/%Y  %I:%M:%S %p',\n",
    "                    level = logging.DEBUG)"
   ]
  },
  {
   "cell_type": "code",
   "execution_count": 4,
   "metadata": {},
   "outputs": [],
   "source": [
    "logging.debug(\"This is a debug message\")\n",
    "logging.info(\"This is a info message\")\n",
    "logging.warning(\"This is a warning message\")\n",
    "logging.error(\"This is an error message\")\n",
    "logging.critical(\"This is a critical message\")"
   ]
  },
  {
   "cell_type": "code",
   "execution_count": null,
   "metadata": {},
   "outputs": [],
   "source": []
  }
 ],
 "metadata": {
  "kernelspec": {
   "display_name": "Python 3",
   "language": "python",
   "name": "python3"
  },
  "language_info": {
   "codemirror_mode": {
    "name": "ipython",
    "version": 3
   },
   "file_extension": ".py",
   "mimetype": "text/x-python",
   "name": "python",
   "nbconvert_exporter": "python",
   "pygments_lexer": "ipython3",
   "version": "3.7.6"
  }
 },
 "nbformat": 4,
 "nbformat_minor": 4
}
