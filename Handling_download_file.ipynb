{
 "cells": [
  {
   "cell_type": "markdown",
   "metadata": {},
   "source": [
    "# 1. Downloading files on chrome browser"
   ]
  },
  {
   "cell_type": "code",
   "execution_count": 2,
   "metadata": {},
   "outputs": [],
   "source": [
    "from selenium import webdriver as wb\n",
    "import time\n",
    "from selenium.webdriver.chrome.options import Options"
   ]
  },
  {
   "cell_type": "code",
   "execution_count": 5,
   "metadata": {},
   "outputs": [],
   "source": [
    "chromeOptions= Options()\n",
    "\n",
    "# In the curly brackets wwe are writing the settings which we want for our \n",
    "chromeOptions.add_experimental_option(\"prefs\",{\"download.default_directory\": \"C:\\\\Users\\RAHUL\\Python_Selenium\\Test_download\"})"
   ]
  },
  {
   "cell_type": "code",
   "execution_count": 13,
   "metadata": {},
   "outputs": [],
   "source": [
    "driver=wb.Chrome(options=chromeOptions)\n",
    "driver.get('http://demo.automationtesting.in/FileDownload.html')\n",
    "driver.maximize_window()"
   ]
  },
  {
   "cell_type": "code",
   "execution_count": 14,
   "metadata": {},
   "outputs": [],
   "source": [
    "textbox= driver.find_element_by_id('textbox')\n",
    "pdfbox= driver.find_element_by_id('pdfbox')"
   ]
  },
  {
   "cell_type": "code",
   "execution_count": 15,
   "metadata": {},
   "outputs": [],
   "source": [
    "textbox.send_keys(\"What is Lorem Ipsum?Lorem Ipsum is simply dummy text of the printing and typesetting industry. Lorem Ipsum has been the industry's standard dummy text ever since the 1500s, when an unknown printer took a galley of type and scrambled it to make a type specimen book. It has survived not only five centuries, but also the leap into electronic typesetting, remaining essentially unchanged. It was popularised in the 1960s with the release of Letraset sheets containing Lorem Ipsum passages, and more recently with desktop publishing software like Aldus PageMaker including versions of Lorem Ipsum.\")\n",
    "pdfbox.send_keys(\"What is Lorem Ipsum?Lorem Ipsum is simply dummy text of the printing and typesetting industry. Lorem Ipsum has been the industry's standard dummy text ever since the 1500s, when an unknown printer took a galley of type and scrambled it to make a type specimen book. It has survived not only five centuries, but also the leap into electronic typesetting, remaining essentially unchanged. It was popularised in the 1960s with the release of Letraset sheets containing Lorem Ipsum passages, and more recently with desktop publishing software like Aldus PageMaker including versions of Lorem Ipsum.\")"
   ]
  },
  {
   "cell_type": "code",
   "execution_count": 16,
   "metadata": {},
   "outputs": [],
   "source": [
    "download_txt_btn= driver.find_element_by_id('createTxt')\n",
    "download_pdf_btn= driver.find_element_by_id('createPdf')"
   ]
  },
  {
   "cell_type": "code",
   "execution_count": 17,
   "metadata": {},
   "outputs": [],
   "source": [
    "download_txt_btn.click()\n",
    "generate_txt_file= driver.find_element_by_xpath(\"//a[@id='link-to-download']\")"
   ]
  },
  {
   "cell_type": "code",
   "execution_count": 18,
   "metadata": {},
   "outputs": [],
   "source": [
    "download_pdf_btn.click()\n",
    "generate_pdf_file= driver.find_element_by_xpath(\"//a[@id='pdf-link-to-download']\")"
   ]
  },
  {
   "cell_type": "code",
   "execution_count": 19,
   "metadata": {},
   "outputs": [],
   "source": [
    "generate_txt_file.click()\n",
    "generate_pdf_file.click()"
   ]
  },
  {
   "cell_type": "markdown",
   "metadata": {},
   "source": [
    "# 2. Downloadig files on firefox browser"
   ]
  },
  {
   "cell_type": "code",
   "execution_count": 23,
   "metadata": {},
   "outputs": [],
   "source": [
    "from selenium import webdriver as wb"
   ]
  },
  {
   "cell_type": "code",
   "execution_count": 25,
   "metadata": {},
   "outputs": [],
   "source": [
    "# setting preferences for the firefox browser\n",
    "\n",
    "fp= wb.FirefoxProfile()  # intializing FirefoxProfile object\n",
    "\n",
    "# 1. Below preference won't open the confirmation pop up when we click download for downloading a file.\n",
    "# --> browser.helperApps.neverAsk.saveToDisk = this won't open the pop up\n",
    "# --> text/plain,application/pdf == this tells the mime type  files which we are downloading\n",
    "fp.set_preference(\"browser.helperApps.neverAsk.saveToDisk\", \"text/plain,application/pdf\")\n",
    "\n",
    "fp.set_preference(\"browser.downlaod.manager.showWhenStarting\", False)\n",
    "\n",
    "# 3. This preference will save the file at specific location\n",
    "fp.set_preference(\"browser.download.dir\", \"C:\\\\Users\\RAHUL\\Python_Selenium\\Test_download\")\n",
    "\n",
    "fp.set_preference(\"browser.download.folderList\",2)\n",
    "fp.set_preference(\"pdfjs.disabled\", True)\n"
   ]
  },
  {
   "cell_type": "code",
   "execution_count": 26,
   "metadata": {},
   "outputs": [],
   "source": [
    "driver= wb.Firefox(firefox_profile=fp)\n",
    "driver.get('http://demo.automationtesting.in/FileDownload.html')\n",
    "driver.maximize_window()"
   ]
  },
  {
   "cell_type": "code",
   "execution_count": 27,
   "metadata": {},
   "outputs": [],
   "source": [
    "textbox= driver.find_element_by_id('textbox')\n",
    "textbox.send_keys(\"What is Lorem Ipsum?Lorem Ipsum is simply dummy text of the printing and typesetting industry. Lorem Ipsum has been the industry's standard dummy text ever since the 1500s, when an unknown printer took a galley of type and scrambled it to make a type specimen book. It has survived not only five centuries, but also the leap into electronic typesetting, remaining essentially unchanged. It was popularised in the 1960s with the release of Letraset sheets containing Lorem Ipsum passages, and more recently with desktop publishing software like Aldus PageMaker including versions of Lorem Ipsum.\")\n",
    "download_txt_btn= driver.find_element_by_id('createTxt')\n",
    "download_txt_btn.click()\n",
    "generate_txt_file= driver.find_element_by_xpath(\"//a[@id='link-to-download']\")\n",
    "generate_txt_file.click()"
   ]
  },
  {
   "cell_type": "code",
   "execution_count": 28,
   "metadata": {},
   "outputs": [],
   "source": [
    "pdfbox= driver.find_element_by_id('pdfbox')\n",
    "pdfbox.send_keys(\"What is Lorem Ipsum?Lorem Ipsum is simply dummy text of the printing and typesetting industry. Lorem Ipsum has been the industry's standard dummy text ever since the 1500s, when an unknown printer took a galley of type and scrambled it to make a type specimen book. It has survived not only five centuries, but also the leap into electronic typesetting, remaining essentially unchanged. It was popularised in the 1960s with the release of Letraset sheets containing Lorem Ipsum passages, and more recently with desktop publishing software like Aldus PageMaker including versions of Lorem Ipsum.\")\n",
    "download_pdf_btn= driver.find_element_by_id('createPdf')\n",
    "download_pdf_btn.click()\n",
    "generate_pdf_file= driver.find_element_by_xpath(\"//a[@id='pdf-link-to-download']\")\n",
    "generate_pdf_file.click()"
   ]
  },
  {
   "cell_type": "code",
   "execution_count": null,
   "metadata": {},
   "outputs": [],
   "source": []
  }
 ],
 "metadata": {
  "kernelspec": {
   "display_name": "Python 3",
   "language": "python",
   "name": "python3"
  },
  "language_info": {
   "codemirror_mode": {
    "name": "ipython",
    "version": 3
   },
   "file_extension": ".py",
   "mimetype": "text/x-python",
   "name": "python",
   "nbconvert_exporter": "python",
   "pygments_lexer": "ipython3",
   "version": "3.7.6"
  }
 },
 "nbformat": 4,
 "nbformat_minor": 4
}
