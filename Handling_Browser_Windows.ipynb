{
 "cells": [
  {
   "cell_type": "code",
   "execution_count": 13,
   "metadata": {},
   "outputs": [],
   "source": [
    "from selenium import webdriver as wb\n",
    "import time"
   ]
  },
  {
   "cell_type": "code",
   "execution_count": 14,
   "metadata": {},
   "outputs": [],
   "source": [
    "driver=wb.Chrome()\n",
    "driver.get('http://demo.automationtesting.in/Windows.html')"
   ]
  },
  {
   "cell_type": "code",
   "execution_count": 15,
   "metadata": {},
   "outputs": [],
   "source": [
    "driver.find_element_by_link_text('click').click()"
   ]
  },
  {
   "cell_type": "code",
   "execution_count": 8,
   "metadata": {},
   "outputs": [
    {
     "name": "stdout",
     "output_type": "stream",
     "text": [
      "CDwindow-1BDD4C068C167AF6463AD2231618DDCA\n"
     ]
    }
   ],
   "source": [
    "Curr_window_handle=driver.current_window_handle   # this gives the current window handle \n",
    "print(Curr_window_handle)"
   ]
  },
  {
   "cell_type": "code",
   "execution_count": 16,
   "metadata": {},
   "outputs": [],
   "source": [
    "handles= driver.window_handles #returns all handle values of opened browser windows"
   ]
  },
  {
   "cell_type": "code",
   "execution_count": 17,
   "metadata": {},
   "outputs": [
    {
     "name": "stdout",
     "output_type": "stream",
     "text": [
      "CDwindow-E812765CE4E09EAD5F8D7DBE4FFCF0E8\n",
      "Frames & windows\n",
      "CDwindow-B7F45C9A78DC3A7F623E29E8E2C76C94\n",
      "SeleniumHQ Browser Automation\n"
     ]
    }
   ],
   "source": [
    "for i in handles:\n",
    "    print(i)\n",
    "    driver.switch_to.window(i)\n",
    "    print(driver.title)"
   ]
  },
  {
   "cell_type": "markdown",
   "metadata": {},
   "source": [
    "Note: To close a particular broswer window we can add if condition i.e., of title==\"xyz\" then driver.quit()"
   ]
  },
  {
   "cell_type": "code",
   "execution_count": null,
   "metadata": {},
   "outputs": [],
   "source": [
    "# TO open a new browser tab we can use"
   ]
  },
  {
   "cell_type": "code",
   "execution_count": 18,
   "metadata": {},
   "outputs": [],
   "source": [
    "driver.execute_script(\"window.open('https://www.youtube.com/watch?v=GwTqzwz7I5M&list=PLUDwpEzHYYLvx6SuogA7Zhb_hZl3sln66&index=14', 'new window')\")"
   ]
  }
 ],
 "metadata": {
  "kernelspec": {
   "display_name": "Python 3",
   "language": "python",
   "name": "python3"
  },
  "language_info": {
   "codemirror_mode": {
    "name": "ipython",
    "version": 3
   },
   "file_extension": ".py",
   "mimetype": "text/x-python",
   "name": "python",
   "nbconvert_exporter": "python",
   "pygments_lexer": "ipython3",
   "version": "3.7.6"
  }
 },
 "nbformat": 4,
 "nbformat_minor": 4
}
