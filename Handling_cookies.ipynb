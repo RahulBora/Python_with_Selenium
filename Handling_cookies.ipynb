{
 "cells": [
  {
   "cell_type": "markdown",
   "metadata": {},
   "source": [
    "### 1. Cookie is a piece of information from website and saved by your web browser.\n",
    "### 2. Cookies are a way of remembering users and their interaction with the site by storing information in the         cookie file as key value pairs.\n",
    "### 3. Tt stores the login information like username/email and password.\n",
    "### 4. HTTP cookie is also known as web cookie, a browser cookie or Internet cookie."
   ]
  },
  {
   "cell_type": "code",
   "execution_count": 11,
   "metadata": {},
   "outputs": [],
   "source": [
    "from selenium import webdriver as wb"
   ]
  },
  {
   "cell_type": "code",
   "execution_count": 12,
   "metadata": {},
   "outputs": [],
   "source": [
    "driver= wb.Chrome()\n",
    "driver.get(\"https://www.amazon.in/\")\n",
    "driver.maximize_window()"
   ]
  },
  {
   "cell_type": "code",
   "execution_count": 13,
   "metadata": {},
   "outputs": [
    {
     "name": "stdout",
     "output_type": "stream",
     "text": [
      "Total number of cookies: 7\n",
      "All availbale cookies are:  [{'domain': 'www.amazon.in', 'expiry': 1636565322, 'httpOnly': False, 'name': 'csm-hit', 'path': '/', 'secure': False, 'value': 'adb:adblk_no&t:1606325322180&tb:HTPFAT2ZGS8JZVBR3WNV+s-HTPFAT2ZGS8JZVBR3WNV|1606325322180'}, {'domain': '.amazon.in', 'expiry': 1637861321, 'httpOnly': False, 'name': 'session-id-time', 'path': '/', 'secure': False, 'value': '2082758401l'}, {'domain': '.amazon.in', 'expiry': 1637861321, 'httpOnly': False, 'name': 'session-token', 'path': '/', 'secure': True, 'value': 'ZakzK7XxvpK2PHdw1glz0hN5PChCBEOOpNG0dzbeTjv9p6jm8Wy9AkOfZtpLNDrJO1nU+63OFSVAyCpFhtXMGPLBqmU11WrJLGTqt2QzsoMi5/jV1Vdo3zJr47JohEB/+a5qVPq5WgApMok7eUWexBeKGzJi74epqPUS5pbz3bBc6cyRiYq1ufG8rbbH7LZz'}, {'domain': '.amazon.in', 'expiry': 1608917320, 'httpOnly': False, 'name': 'visitCount', 'path': '/', 'secure': False, 'value': '1'}, {'domain': '.amazon.in', 'expiry': 1637861321, 'httpOnly': False, 'name': 'ubid-acbin', 'path': '/', 'secure': True, 'value': '261-7901685-2135726'}, {'domain': '.amazon.in', 'expiry': 1637861313, 'httpOnly': False, 'name': 'i18n-prefs', 'path': '/', 'secure': False, 'value': 'INR'}, {'domain': '.amazon.in', 'expiry': 1637861321, 'httpOnly': False, 'name': 'session-id', 'path': '/', 'secure': True, 'value': '260-3428622-2077742'}]\n"
     ]
    }
   ],
   "source": [
    "# cookies will capture all the available cookies\n",
    "cookies = driver.get_cookies()\n",
    "print(\"Total number of cookies:\", len(cookies))\n",
    "print (\"All availbale cookies are: \", cookies)"
   ]
  },
  {
   "cell_type": "markdown",
   "metadata": {},
   "source": [
    "###  Adding a new cookie to the browser"
   ]
  },
  {
   "cell_type": "code",
   "execution_count": 14,
   "metadata": {},
   "outputs": [
    {
     "name": "stdout",
     "output_type": "stream",
     "text": [
      "Total number of cookies:  8\n",
      "All available cookies are:  [{'domain': 'www.amazon.in', 'httpOnly': False, 'name': 'My_cookie', 'path': '/', 'secure': True, 'value': '1234567890'}, {'domain': '.amazon.in', 'expiry': 1637861328, 'httpOnly': False, 'name': 'session-id-time', 'path': '/', 'secure': True, 'value': '2082787201l'}, {'domain': 'www.amazon.in', 'expiry': 1636565322, 'httpOnly': False, 'name': 'csm-hit', 'path': '/', 'secure': False, 'value': 'adb:adblk_no&t:1606325322180&tb:HTPFAT2ZGS8JZVBR3WNV+s-HTPFAT2ZGS8JZVBR3WNV|1606325322180'}, {'domain': '.amazon.in', 'expiry': 1637861328, 'httpOnly': False, 'name': 'session-token', 'path': '/', 'secure': True, 'value': 'ZakzK7XxvpK2PHdw1glz0hN5PChCBEOOpNG0dzbeTjv9p6jm8Wy9AkOfZtpLNDrJO1nU+63OFSVAyCpFhtXMGPLBqmU11WrJLGTqt2QzsoMi5/jV1Vdo3zJr47JohEB/+a5qVPq5WgApMok7eUWexBeKGzJi74epqPUS5pbz3bBc6cyRiYq1ufG8rbbH7LZz'}, {'domain': '.amazon.in', 'expiry': 1608917320, 'httpOnly': False, 'name': 'visitCount', 'path': '/', 'secure': False, 'value': '1'}, {'domain': '.amazon.in', 'expiry': 1637861328, 'httpOnly': False, 'name': 'ubid-acbin', 'path': '/', 'secure': True, 'value': '261-7901685-2135726'}, {'domain': '.amazon.in', 'expiry': 1637861328, 'httpOnly': False, 'name': 'i18n-prefs', 'path': '/', 'secure': False, 'value': 'INR'}, {'domain': '.amazon.in', 'expiry': 1637861328, 'httpOnly': False, 'name': 'session-id', 'path': '/', 'secure': True, 'value': '260-3428622-2077742'}]\n"
     ]
    }
   ],
   "source": [
    "cookie= {'name':'My_cookie', \"value\": \"1234567890\"}\n",
    "\n",
    "# this will add the cookie to the browser\n",
    "driver.add_cookie(cookie)\n",
    "cookies= driver.get_cookies()\n",
    "print(\"Total number of cookies: \",len(cookies))\n",
    "print(\"All available cookies are: \", cookies)"
   ]
  },
  {
   "cell_type": "markdown",
   "metadata": {},
   "source": [
    "### Deleting a cookie"
   ]
  },
  {
   "cell_type": "code",
   "execution_count": 19,
   "metadata": {},
   "outputs": [
    {
     "name": "stdout",
     "output_type": "stream",
     "text": [
      "Total number of cookies:  7\n",
      "All avaialable cookies are:  [{'domain': 'www.amazon.in', 'expiry': 1636565371, 'httpOnly': False, 'name': 'csm-hit', 'path': '/', 'secure': False, 'value': 'adb:adblk_no&t:1606325371093&tb:HTPFAT2ZGS8JZVBR3WNV+s-HTPFAT2ZGS8JZVBR3WNV|1606325371093'}, {'domain': '.amazon.in', 'expiry': 1637861328, 'httpOnly': False, 'name': 'session-id-time', 'path': '/', 'secure': True, 'value': '2082787201l'}, {'domain': '.amazon.in', 'expiry': 1637861328, 'httpOnly': False, 'name': 'session-token', 'path': '/', 'secure': True, 'value': 'ZakzK7XxvpK2PHdw1glz0hN5PChCBEOOpNG0dzbeTjv9p6jm8Wy9AkOfZtpLNDrJO1nU+63OFSVAyCpFhtXMGPLBqmU11WrJLGTqt2QzsoMi5/jV1Vdo3zJr47JohEB/+a5qVPq5WgApMok7eUWexBeKGzJi74epqPUS5pbz3bBc6cyRiYq1ufG8rbbH7LZz'}, {'domain': '.amazon.in', 'expiry': 1608917320, 'httpOnly': False, 'name': 'visitCount', 'path': '/', 'secure': False, 'value': '1'}, {'domain': '.amazon.in', 'expiry': 1637861328, 'httpOnly': False, 'name': 'ubid-acbin', 'path': '/', 'secure': True, 'value': '261-7901685-2135726'}, {'domain': '.amazon.in', 'expiry': 1637861328, 'httpOnly': False, 'name': 'i18n-prefs', 'path': '/', 'secure': False, 'value': 'INR'}, {'domain': '.amazon.in', 'expiry': 1637861328, 'httpOnly': False, 'name': 'session-id', 'path': '/', 'secure': True, 'value': '260-3428622-2077742'}]\n"
     ]
    }
   ],
   "source": [
    "driver.delete_cookie('My_cookie')  # here we have to pass the name of the cookie\n",
    "cookies= driver.get_cookies()\n",
    "print('Total number of cookies: ', len(cookies))\n",
    "print('All avaialable cookies are: ', cookies)"
   ]
  },
  {
   "cell_type": "code",
   "execution_count": null,
   "metadata": {},
   "outputs": [],
   "source": []
  }
 ],
 "metadata": {
  "kernelspec": {
   "display_name": "Python 3",
   "language": "python",
   "name": "python3"
  },
  "language_info": {
   "codemirror_mode": {
    "name": "ipython",
    "version": 3
   },
   "file_extension": ".py",
   "mimetype": "text/x-python",
   "name": "python",
   "nbconvert_exporter": "python",
   "pygments_lexer": "ipython3",
   "version": "3.7.6"
  }
 },
 "nbformat": 4,
 "nbformat_minor": 4
}
